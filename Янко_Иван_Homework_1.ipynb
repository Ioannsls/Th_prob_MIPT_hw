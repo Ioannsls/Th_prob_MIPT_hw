{
 "cells": [
  {
   "cell_type": "markdown",
   "metadata": {},
   "source": [
    "# Домашнее задание 1\n",
    "\n",
    "Это домашнее задание по материалам первого семинара. Дедлайн по отправке - 23:55 20 сентября. \n",
    "\n",
    "Домашнее задание выполняется в этом же Jupyter Notebook'e и присылается мне на почту.\n",
    "Решение каждой задачи необходимо поместить после её условия.\n",
    "Файл должен называться: __Фамилия_Имя_Homework_1__\n",
    "\n",
    "При полном запуске Вашего решения (Kernel -> Restart & Run All) все ячейки должны выполняться без ошибок. "
   ]
  },
  {
   "cell_type": "markdown",
   "metadata": {},
   "source": [
    "## Классическое определение"
   ]
  },
  {
   "cell_type": "markdown",
   "metadata": {},
   "source": [
    "__Задание 1. Честность жеребьевки__\n",
    "\n",
    "(Задача 19 из [сборника](https://arxiv.org/pdf/1508.03461v3.pdf)) В турнире участвуют $2n$ команд. Их случайно разбивавют на две равные группы. Найдите веротность того, что две самые сильные команды окажутся:\n",
    "\n",
    "Заметим, что всего возможных наборов команд $С^{2n}_n = \\frac{2n!}{n!(2n-n)!} = \\frac{2n!}{(n!)^2}$ (учитывается порядок, в котором идут команды)\n",
    "\n",
    "1) в одной группе"
   ]
  },
  {
   "cell_type": "markdown",
   "metadata": {},
   "source": [
    "Если две самые сильные команды оказались в одной группе, то сначала можно выбрать номер группы двумя способами, а остальные команды в этой группе с сильными можно выбрать $C^{2n-2}_{n-2}$ способами. Значит вероятность этого событыя А $P(A) = 2\\cdot \\frac{C^{2n-2}_{n-2}}{C^{2n}_{n}} = \\frac{n-1}{2n-1}$"
   ]
  },
  {
   "cell_type": "markdown",
   "metadata": {},
   "source": [
    "2) в разных группах"
   ]
  },
  {
   "cell_type": "markdown",
   "metadata": {},
   "source": [
    "Назовем $A$ - событие \"команды оказались в одной группе\", тогда событие $A^c$ - \"команды оказались в разных группах. Мы знаем, что $P\\{A\\} + P\\{A^c\\} = 1$, поэтому $P\\{A^c\\} = \\frac{n}{2n-1}$."
   ]
  },
  {
   "cell_type": "markdown",
   "metadata": {},
   "source": [
    "__Задание 2. Не выиграл, но с призом__\n",
    "\n",
    "(Задача 4 из [сборника](https://arxiv.org/pdf/1508.03461v3.pdf)) Два игрока играют в честную игру (с вероятностью победы в каждой из партий 1/2). Игроки договорились, что тот, кто первым выиграет 6 партий, получит весь приз. Предположим, что игроки не успели доиграть: первый выиграл 5 партий, а второй – 3. Как следует разделить приз?"
   ]
  },
  {
   "cell_type": "markdown",
   "metadata": {},
   "source": [
    "Надем вероятность того, что второй игрок бы выиграл (событие $A$): это было возможно только в том случае, если бы он выиграл 3 партии подряд. Значит $P\\{A\\} = \\frac{1}{2^3} = \\frac{1}{8}$. т.к. $P\\{A\\} + P\\{A^c\\} = 1$, то $P\\{A^c\\} = \\frac{7}{8}$. Приз стоит разделить пропорционально вероятностям выигрышей."
   ]
  },
  {
   "cell_type": "markdown",
   "metadata": {},
   "source": [
    "__Задание 3. Подмножества__\n",
    "\n",
    "(Задача 28 из [сборника](https://arxiv.org/pdf/1508.03461v3.pdf)) Дано множество $N = \\{1,2,\\ldots, n\\}$. Из множества всех его подмножеств $2^N$ независимо выбираются два элемента $X$\n",
    "и $Y$. Найдите вероятность того, что они не пересекаются."
   ]
  },
  {
   "cell_type": "markdown",
   "metadata": {},
   "source": [
    "Множества $X$ и $Y$ не будут пересекаться тогда и только тогда, когда в них нет одинаковых элементов. Пусть множесто $\\Omega = 2^N$. Пусть $A = \\{X,Y \\in 2^N| X \\cap Y = \\varnothing \\}$. Попытаемся найти $|A|$, для этого обозначим за $A_k \\in A$ такое множество, что $|X_k| = k$. $|A_k| = \\frac{n!}{(n-k)!k!} \\cdot 2^{n - k}$, т.к. можно выбрать $k$ неупорядоченных элементов в множество $X$ $\\frac{n!}{(n-k)!k!}$ способами, а далее можно выбрать множесто $Y$ $2^{n-k}$ способами. Отсюда $|A| = \\sum^n_{k = 0} (|A_k|) = \\sum^n_{k = 0} (\\frac{n!}{(n-k)!k!} \\cdot 2^{n - k})$.\n",
    "$P\\{A\\} = \\frac{|A|}{|\\Omega|} = \\frac{\\sum^n_{k = 0} \\left(\\frac{n!}{(n-k)!k!} \\cdot 2^{n - k}\\right)}{2^N} = \\frac{\\sum^n_{k = 0} \\left(\\frac{n!}{(n-k)!k!} \\cdot 2^{n - k}\\right)}{2^{2n}}$. Пользуясь магией и wolframalpha $P\\{A\\} = 2^{-2n} \\cdot 3^n$."
   ]
  },
  {
   "cell_type": "markdown",
   "metadata": {},
   "source": [
    "## Геометрическое определение"
   ]
  },
  {
   "cell_type": "markdown",
   "metadata": {},
   "source": [
    "__Задание 4. Парадокс Бертрана__ \n",
    "\n",
    "Изучите три подхода из семинара к задаче построения случайной хорды. С помощью следующей формулы:\n",
    "$$\n",
    "\\left[(\\text{Номер в алфавите второй буквы имени} + \\text{Номер в алфавите четвертой буквы фамилии})~~~(\\text{mod } 3)\\right] + 1,\n",
    "$$\n",
    "вычислите номер подхода, с которым Вам необходимо работать. Например, для Ивана Иванова имеем В + Н, т.е. [(3 + 15) (mod 3)] + 1 = 1. Вы можете взять свой подход, но перед описать его. "
   ]
  },
  {
   "cell_type": "markdown",
   "metadata": {},
   "source": [
    "1) Визуализируйте \"генерацию\" $n=10$ хорд. Окружность уже нарисована, но Вы можете менять код по своему усмотрению."
   ]
  },
  {
   "cell_type": "code",
   "execution_count": 1,
   "metadata": {},
   "outputs": [
    {
     "data": {
      "image/png": "[encoded data removed]",
      "text/plain": [
       "<Figure size 288x288 with 1 Axes>"
      ]
     },
     "metadata": {
      "needs_background": "light"
     },
     "output_type": "display_data"
    }
   ],
   "source": [
    "import numpy as np \n",
    "from matplotlib import pyplot as plt\n",
    "\n",
    "t = np.linspace(0, 2 * np.pi, 100)\n",
    "\n",
    "plt.figure(figsize=(4,4))\n",
    "plt.plot(np.cos(t), np.sin(t))\n",
    "\n",
    "\n",
    "#следуя формулы, получаю, что у меня 1 номер подхода (|в| + |о| = 19 = 1 (mod 3))\n",
    "import math\n",
    "def radian_to_coordinate(rad):\n",
    "    #берем за нулевую точку (0,-1), можем это сделать, т.к. круг симметричная фигура\n",
    "    return ([0, math.sin(rad)], [-1, math.cos(rad)])\n",
    "\n",
    "import random as rand\n",
    "rand.random()\n",
    "for _ in range(10):\n",
    "    coordinate = radian_to_coordinate(rand.uniform(0, 2.0*math.pi))\n",
    "    plt.plot(coordinate[0], coordinate[1], c = 'red')\n",
    "plt.show()"
   ]
  },
  {
   "cell_type": "markdown",
   "metadata": {},
   "source": [
    "2) Посчитайте частоту $\\nu$, с которой хорда больше стороны вписанного равностороннего треугольника, для $n=10,100,1000,10^4,10^5$. Постройте график $\\nu(n)$. Информативно ли выглядит график? Попробуйте использовать по осям $x$ и/или $y$ логарифмический масштаб. Также можете откладывать по оси $y$ не значение $\\nu(n)$, а значение $(\\nu(n) - \\text{предельное значение } \\nu)$."
   ]
  },
  {
   "cell_type": "markdown",
   "metadata": {},
   "source": [
    "Конечно же, если построить график прямой зависимости, то он будет нечитаем из-за отличия величин по оси $n$ в $10^4$ раз, поэтому имеет смысл строить график $\\nu(ln(n))$. Для большей наглядности возьму еще 4 точки $ n = 50,500,5\\cdot10^3, 5\\cdot10^4$"
   ]
  },
  {
   "cell_type": "code",
   "execution_count": 2,
   "metadata": {},
   "outputs": [
    {
     "data": {
      "image/png": "[encoded data removed]",
      "text/plain": [
       "<Figure size 432x288 with 1 Axes>"
      ]
     },
     "metadata": {
      "needs_background": "light"
     },
     "output_type": "display_data"
    }
   ],
   "source": [
    "import numpy as np \n",
    "from matplotlib import pyplot as plt\n",
    "import math\n",
    "LENGHT = math.sqrt(3)\n",
    "points = (10, 50, 100, 500, 10**3, 5*10**3, 10**4, 5*10**4, 10**5)\n",
    "\n",
    "import random as rand\n",
    "rand.random()\n",
    "def generate ():\n",
    "    angle = rand.uniform(0, 2.0*math.pi)\n",
    "    return (math.sin(angle), math.cos(angle))\n",
    "def lenght_is_more (point):\n",
    "    return math.sqrt((point[0] - 0)**2 + (point[1] - 1)**2) > LENGHT\n",
    "\n",
    "results = [0,0]\n",
    "x_points = []\n",
    "y_points = []\n",
    "j = 0\n",
    "for i in points:\n",
    "    for k in range (i - j):\n",
    "        results[lenght_is_more(generate())] += 1\n",
    "    j = i\n",
    "    x_points.append(math.log10(i))\n",
    "    y_points.append(results[1]/(results[0] + results[1]))\n",
    "    \n",
    "\n",
    "plt.figure()\n",
    "plt.ylim(0, 1)\n",
    "plt.hlines(1/3, 1, 5)\n",
    "plt.scatter(x_points, y_points, c = \"red\")\n",
    "plt.xlabel(r\"$ln(n)$\", fontsize = 15)\n",
    "plt.ylabel(r\"$\\nu(ln)$\", fontsize = 15)\n",
    "plt.show()\n"
   ]
  },
  {
   "cell_type": "markdown",
   "metadata": {},
   "source": [
    "__Задание 5. Квадратное уравнение__ \n",
    "\n",
    "Какова вероятность того, что корни квадартного уравнения $x^2 + 2b x + c =0$ вещественны?\n",
    "\n",
    "1) $b,c$ независимо выбираются из отрезка $[0;1]$."
   ]
  },
  {
   "cell_type": "markdown",
   "metadata": {},
   "source": [
    "Запишем условие того, что корни этого уравнения будут вещественны: $(b^2 - c) \\geqslant 0 $. Изобразим эту условие на графике."
   ]
  },
  {
   "cell_type": "code",
   "execution_count": 3,
   "metadata": {},
   "outputs": [
    {
     "data": {
      "image/png": "[encoded data removed]",
      "text/plain": [
       "<Figure size 432x288 with 1 Axes>"
      ]
     },
     "metadata": {
      "needs_background": "light"
     },
     "output_type": "display_data"
    }
   ],
   "source": [
    "import numpy as np\n",
    "import matplotlib.pyplot as plt\n",
    "from mpl_toolkits.mplot3d import Axes3D\n",
    "%matplotlib inline\n",
    "\n",
    "b = np.linspace(0, 1, 100)\n",
    "c = b**2\n",
    "plt.figure()\n",
    "plt.xlim(0, 1)\n",
    "plt.ylim(0, 1)\n",
    "plt.plot(b, c)\n",
    "plt.fill_between(b,c)\n",
    "plt.show()"
   ]
  },
  {
   "cell_type": "markdown",
   "metadata": {},
   "source": [
    "Отношение закрашенной площади к 1 и будет искомой вероятностю. $\\int\\limits_0^1 x^2dx = \\frac{1}{3}$, что и является ответом."
   ]
  },
  {
   "cell_type": "markdown",
   "metadata": {},
   "source": [
    "2) Никаких ограничений на $b,c$ нет."
   ]
  },
  {
   "cell_type": "markdown",
   "metadata": {},
   "source": [
    "Будем считать, что уравнение однозначно задается выбранными $b,c$, которые равновероятно выбераются из $R$. Т.к. с бесконечностями работать смысла нет, попробуем посчитать вероятность при следующих условиях: $b\\in [-l,l] \\wedge c \\in [0,l]$. Т.к. при $c < 0$ вероятность того, что корни вещественны 1, то при таких условиях вероятность вещественности корней уравнения не может стать меньше. \n",
    "Далее посчитаем следующий предел: $$\\lim\\limits_{l\\to\\infty} \\frac{\\int\\limits_{-l}^{l} \\left(x^2dx \\right)}{\\frac{l^2}{2}} = \\infty$$\n",
    "При этом данная задача похожа на парадокс Бертрана, т.к. при задании уравнения двумя корнями из мнимой плоскости (что, конечно же, однозначно задает уравнение) вероятность вещественности корней будет равна $0$."
   ]
  },
  {
   "cell_type": "markdown",
   "metadata": {},
   "source": [
    "__Задание 6. Монте-Карло__\n",
    "\n",
    "В [Вики](https://ru.wikipedia.org/wiki/%D0%9C%D0%B5%D1%82%D0%BE%D0%B4_%D0%9C%D0%BE%D0%BD%D1%82%D0%B5-%D0%9A%D0%B0%D1%80%D0%BB%D0%BE) можно прочитать про то, как можно искать значение интеграла с помощью метода Монте-Карло (пройдите по ссылке и загляните в раздел \"Интегрирование методом Монте-Карло\")"
   ]
  },
  {
   "cell_type": "markdown",
   "metadata": {},
   "source": [
    "Рассмотрим следующий интеграл: \n",
    "\\begin{align*}\n",
    "& \\iint\\limits_{\\Omega} xy~ dx dy \\\\\n",
    "\\Omega =  & \n",
    "\\begin{cases}\n",
    "   0 \\leq x \\leq \\pi\\\\\n",
    "   0 \\leq y \\leq sin(x)\n",
    "\\end{cases}\n",
    "\\end{align*}"
   ]
  },
  {
   "cell_type": "markdown",
   "metadata": {},
   "source": [
    "1) Возьмите его \"честно\", как учили в 3 семестре."
   ]
  },
  {
   "cell_type": "markdown",
   "metadata": {},
   "source": [
    "Эта часть будет самая сложная) \n",
    "\n",
    "$$\\iint\\limits_{\\Omega} xy~ dx dy = \\int\\limits_{0}^{\\pi}dx \\int\\limits_{0}^{sin(x)}xydy = \\int\\limits_{0}^{\\pi}xdx \\int\\limits_{0}^{sin(x)}ydy = \\int\\limits_{0}^{\\pi} \\frac{sin^2(x)}{2} xdx = \\frac{1}{4} \\int\\limits_{0}^{\\pi} (1-cos(2x))xdx$$\n",
    "Дальше там интегрировать по частям надо, мне это очень лень писать, поэтому тут будет результат из вольфрама.\n",
    "$$\\int\\limits_{0}^{\\pi}dx \\int\\limits_{0}^{sin(x)}xydy = \\frac{1}{4} \\int\\limits_{0}^{\\pi} (1-cos(2x))xdx = \\frac{\\pi^2}{8} \\approx 1,2337$$"
   ]
  },
  {
   "cell_type": "markdown",
   "metadata": {},
   "source": [
    "2) Воспользуйтесь методом Монте-Карло, а именно тем, что в статье назван \"Геометрический алгоритм Монте-Карло\". В какую фигуру Вы будете \"бросать\" точки в случае нашего интеграла? Обоснуйте, почему Вы выбрали именно такую фигуру и такого размера. Запустите алгоритм для разного числа точек. Сравните с результатом для пункта 1."
   ]
  },
  {
   "cell_type": "markdown",
   "metadata": {},
   "source": [
    "Будем брать $x \\in [0,\\pi]$, $y \\in [0,1]$ с равновероятным распределением. Далее будем проверять выполнено ли условие $0 \\leqslant y \\leqslant sin(x)$. Если это выполнено, то вычислим $xy$ и добавим результат к счетчику. Для вычисления результата еще потребуется площадь, где определена функция $f(x,y)$, учитывая условия. Обозначим эту площадь за $S = \\int\\limits^{\\pi}_{0}sin(x)dx = 1$.$\\newline$\n",
    "Самое интересное, я честно не знаю, почему нужно умножать результат на 2 для получения верного результата. Скорее всего, это как-то связано с площадью, хотя, вроде бы она посчитана и равна 1."
   ]
  },
  {
   "cell_type": "code",
   "execution_count": 6,
   "metadata": {},
   "outputs": [
    {
     "name": "stdout",
     "output_type": "stream",
     "text": [
      "10 0.9310574432538612\n",
      "1000 1.1987591952021501\n",
      "100000 1.2384804511316063\n",
      "10000000 1.2336496177796084\n"
     ]
    }
   ],
   "source": [
    "import random as rand\n",
    "import math\n",
    "def generate ():\n",
    "    x = rand.uniform(0, math.pi)\n",
    "    y = rand.uniform(0, 1)\n",
    "    if (y > math.sin(x)):\n",
    "        return generate()\n",
    "    return x*y\n",
    "\n",
    "points = (10,10**3,10**5,10**7)\n",
    "j = 0\n",
    "result = 0\n",
    "for i in points:\n",
    "    for k in range (j, i):\n",
    "        result += generate()\n",
    "    j = i\n",
    "    print (i, (result * 2)/i)"
   ]
  },
  {
   "cell_type": "markdown",
   "metadata": {},
   "source": [
    "## Бонус"
   ]
  },
  {
   "cell_type": "markdown",
   "metadata": {},
   "source": [
    "__Задание 7. Окружность__\n",
    "\n",
    "На окружность случайным образом независимо друг от друга бросают $n$ точек. Найдите вероятность того, что эти точки лежат на одной полуокружности."
   ]
  },
  {
   "cell_type": "markdown",
   "metadata": {},
   "source": [
    "Пусть на окружности есть $n$ точек, возьмем одну случайным образом и будем говорить, что эта точка с индексом 1, т.е. $A_1$. Далее точки будем нумеровать так: идем по часовой стрелке, для каждой встечающейся присваиваем индекс на 1 больше. За $l_i = l(A_{i}, A_{i+1})$ обозначим длину дуги между $i$ и $i + 1$ точками. Тогда условие \"точки лежат на одной полуокружности\" аналогично следующему: $$P\\{ (l_1 > \\pi) \\vee (l_2 > \\pi) \\vee ... \\vee (l_n > \\pi) \\} = n \\cdot P\\{l_1 > \\pi\\} = n \\cdot \\frac{1}{2^{n-1}}$$\n",
    "Последнее равенство верно, т.к. зная положение первой точки и то, что расстояние до следующей должно быть больше $\\pi$, можно сделать вывод, что остальные $n - 1$ точки должны \"упасть\" на часть окружности, длина которой рава $\\frac{1}{2}$ от всей длины."
   ]
  },
  {
   "cell_type": "markdown",
   "metadata": {},
   "source": [
    "__Задание 8. Вспомним Райна__\n",
    "\n",
    "Будем говорить, что множество $A \\subset \\{1,2,3 \\ldots\\}$ имеет ассимптотическую плотность $\\theta$, если\n",
    "$$\\lim\\limits_{n \\to \\infty} |A \\cap \\{1,2,3 \\ldots n\\}| = \\theta$$\n",
    "\n",
    "Рассмотрим семейство множеств $\\alpha$, для которых существует $\\theta$.\n",
    "\n",
    "1) Является ли $\\alpha$ $\\sigma$-алгеброй множеств?"
   ]
  },
  {
   "cell_type": "markdown",
   "metadata": {},
   "source": [
    "Не является, докажем это. Для этого заметим, что по определению счетное объединение множеств из $\\alpha$ должно лежать в $\\alpha$. Обозначим это объединение, как $\\bigcup\\limits_{i = 1}^{\\infty} A_i = A$. Будем брать $A_i$ так, что $ i \\in A_i$. Тогда $$\\lim\\limits_{n \\to \\infty} |A \\cap \\{1,2,3 \\ldots n\\}| = \\infty \\not \\in \\alpha$$ что противоречит определению. Значит $\\alpha$ не является  $\\sigma$-алгеброй множеств."
   ]
  },
  {
   "cell_type": "markdown",
   "metadata": {},
   "source": [
    "2) Является ли $\\alpha$ алгеброй множеств?"
   ]
  },
  {
   "cell_type": "markdown",
   "metadata": {},
   "source": [
    "Если я правильно понял, то при условии $\\theta < \\infty$ будет выполнено $\\lim\\limits_{n \\to \\infty} |\\overline{A} \\cap \\{1,2,3 \\ldots n\\}| = \\infty$, из чего уже следует, что $\\alpha$ не является алгеброй множеств."
   ]
  }
 ],
 "metadata": {
  "kernelspec": {
   "display_name": "Python 3 (ipykernel)",
   "language": "python",
   "name": "python3"
  },
  "language_info": {
   "codemirror_mode": {
    "name": "ipython",
    "version": 3
   },
   "file_extension": ".py",
   "mimetype": "text/x-python",
   "name": "python",
   "nbconvert_exporter": "python",
   "pygments_lexer": "ipython3",
   "version": "3.9.12"
  }
 },
 "nbformat": 4,
 "nbformat_minor": 2
}
