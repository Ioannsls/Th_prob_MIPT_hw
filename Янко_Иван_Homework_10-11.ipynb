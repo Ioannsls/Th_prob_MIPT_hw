{
 "cells": [
  {
   "cell_type": "markdown",
   "metadata": {},
   "source": [
    "# Домашнее задание 10-11\n",
    "\n",
    "Это домашнее задание по материалам десятого и одиннацатого семинаров. Дедлайн по отправке - 23:55 5 декабря. \n",
    "\n",
    "Домашнее задание выполняется в этом же Jupyter Notebook'e и присылается мне на почту.\n",
    "Решение каждой задачи необходимо поместить после её условия.\n",
    "\n",
    "Файл должен называться: __Фамилия_Имя_Homework_10-11__\n",
    "\n",
    "При полном запуске Вашего решения (Kernel -> Restart & Run All) все ячейки должны выполняться без ошибок. "
   ]
  },
  {
   "cell_type": "markdown",
   "metadata": {},
   "source": [
    "__Задание 1. Всегда нулевой предел__\n",
    "\n",
    "Пусть дана последовательность $\\{\\xi_n\\}_{n=1}^\\infty$ независимых одинаково распределённых невырожденных случайных величин с конечными дисперсиями. Пусть $\\eta_n = \\xi_1 + \\xi_2 + \\ldots + \\xi_n$. Докажите, что для любых $a,b\\in\\mathbb{R}^n$\n",
    "$$\n",
    "\t\\lim\\limits_{n\\to\\infty}\\mathbb{P}\\{a\\leqslant \\eta_n\\leqslant b\\} = 0.\n",
    "$$  "
   ]
  },
  {
   "cell_type": "markdown",
   "metadata": {},
   "source": [
    "Рассмотрим два случая - 1) $\\mathbb{E} \\{ \\xi_n \\} = 0$, 2) $\\mathbb{E} \\{ \\xi_n \\} \\not= 0$:\n",
    "\n",
    "1) В этом случае воспользуемся ЦПТ, обозначив $\\mathbb{D} \\{ \\xi_n \\} = \\sigma^2$: $\\frac{\\eta_n}{\\sigma\\sqrt{n}} \\xrightarrow[n\\to\\infty]{d} \\mathcal{N}(0,1)$, значит $\\mathbb{P}\\{a\\leqslant \\eta_n\\leqslant b\\} = \\mathbb{P}\\{ \\frac{a}{ \\sigma\\sqrt{n}} \\leqslant \\mathcal{N}(0,1) \\leqslant \\frac{b}{\\sigma\\sqrt{n}} \\} \\xrightarrow[n\\to\\infty]{} 0$\n",
    "\n",
    "2) Т.к. по условию дисперсия кончная, то и мат. ожидание тоже конечное, обозначим $\\mathbb{E} = m$. Т.к. по ЗБЧ $\\frac{1}{n}\\left( \\eta_n - n \\cdot m \\right) \\xrightarrow[n\\to\\infty]{\\mathbb{P}} 0$, значит $\\mathbb{E} \\{\\eta_n \\} = n\\cdot m \\xrightarrow[n\\to\\infty]{} \\infty$, а значит найдется такой номер, начиная с которого пик распределения (отметим, что у этого распределения легкие хвосты) будет так далеко, что вероятность оказаться между $\\left[ a , b \\right]$ меньше любого наперед заданного числа (применили неравенство Хёффдинга). Отсюда верно $\\lim\\limits_{n\\to\\infty}\\mathbb{P}\\{a\\leqslant \\eta_n\\leqslant b\\} = 0$."
   ]
  },
  {
   "cell_type": "markdown",
   "metadata": {},
   "source": [
    "__Задание 2. Почти теорема__\n",
    "\n",
    "Пусть дана последовательность $\\{\\xi_n\\}_{n=1}^\\infty$ независимых одинаково распределённых невырожденных случайных величин с нулевыми математическими ожиданиями и единичными дисперсиями. Докажите, что\n",
    "$$\n",
    "\\eta_n = \\sqrt{n}\\frac{\\xi_1 + \\ldots + \\xi_n}{\\xi_1^2 + \\ldots + \\xi_n^2} \\xrightarrow[n\\to\\infty]{d} \\mathcal{N}(0,1),\\quad \\zeta_n = \\frac{\\xi_1 + \\ldots + \\xi_n}{\\sqrt{\\xi_1^2 + \\ldots + \\xi_n^2}} \\xrightarrow[n\\to\\infty]{d} \\mathcal{N}(0,1).\n",
    "$$\n",
    "\n",
    "_Указание._ Докажите вспомогательное утверждение: если $\\xi_n \\xrightarrow[n\\to\\infty]{d}\\xi$, $\\mathbb{E}\\xi = 0$, $\\mathbb{D}\\xi = 1$ и $\\eta_n \\xrightarrow[n\\to\\infty]{\\mathbb{P}} 1$, то $$\\xi_n\\eta_n\\xrightarrow[n\\to\\infty]{d}\\xi.$$"
   ]
  },
  {
   "cell_type": "markdown",
   "metadata": {},
   "source": [
    "Для начала сформулируем теорему о наследовании сходимостей:\n",
    "\n",
    "Пусть $\\xi$, $\\{ \\xi_n \\}$ - случайные векторы в $\\mathbb{R}^m, \\exists B \\in \\mathcal{B} \\left( \\mathbb{R}^m \\right) : P \\left( \\xi \\in B \\right) = 1$ и $h : \\mathbb{R}^m \\rightarrow \\mathbb{R}^k$ непрервына в каждой точке множества B. Тогда\n",
    "\n",
    "1.$ \\xi_n \\xrightarrow{a.s.} \\xi \\Rightarrow h(\\xi_n) \\xrightarrow{a.s.} h(\\xi)$\n",
    "\n",
    "2.$ \\xi_n \\xrightarrow{P} \\xi \\Rightarrow h(\\xi_n) \\xrightarrow{P} h(\\xi)$\n",
    "\n",
    "3.$ \\xi_n \\xrightarrow{d} \\xi \\Rightarrow h(\\xi_n) \\xrightarrow{d} h(\\xi)$\n",
    "\n",
    "Доказательство этой теоремы опустим. \n",
    "\n",
    "Далее докажем лемму Слуцкого, т.е. вспомогательное утверждение немного в другой форме.\n",
    "\n",
    "Пусть $\\xi_n \\xrightarrow{d} \\xi, \\eta_n \\xrightarrow{d} C = const$. Тогда \n",
    "$$ \\xi_n + \\eta_n \\xrightarrow{d} \\xi + C, \\xi_n \\cdot \\eta_n \\xrightarrow{d} \\xi \\cdot C $$\n",
    "\n",
    "Приведем доказательсво. Рассмотрим $f : \\mathbb{R}^{2m} \\rightarrow \\mathbb{R}, f(x,y) = x \\cdot y$. Тогда по теореме о наследовании сходимостей получим требуемое. Аналогично доказательство для суммы.\n",
    "\n",
    "В данной задаче условия на математическое ожидание и дисперсию $\\xi_n, \\xi$ делают верными условия теоремы о наследовании сходимостей, т.к. будет выполняться непрервыность и существование множества, что $P \\left( \\xi \\in B \\right) = 1$.\n",
    "\n",
    "Использование классиической ЦПТ дает следующее: $\\frac{\\xi_1 + \\ldots + \\xi_n}{\\sqrt{n}} \\xrightarrow[n \\rightarrow \\infty]{d} \\mathcal{N} (0,1)$, поэтому рассмотрим $\\frac{n}{\\xi_1^2 + \\ldots + \\xi_n^2} = \\lambda_n$. Покажем, что $P\\{ |\\lambda_n - 1| > \\varepsilon \\} \\xrightarrow[n \\rightarrow \\infty]{P} 0$, рассмотрим $\\frac{1}{\\lambda_n}$, для этой случайной величины выполнено $\\frac{1}{\\lambda_n} = \\frac{\\xi_1^2 + \\ldots + \\xi_n^2}{n} \\xrightarrow[n \\rightarrow \\infty]{P} \\mathbb{E}\\{ \\xi_n^2 \\} = 1$\n",
    "$$\n",
    "P\\{ |\\frac{1}{\\lambda_n} - 1| > \\varepsilon \\} = P\\{ \\frac{1}{\\lambda_n} - 1 > \\varepsilon \\} + P\\{ \\frac{1}{\\lambda_n} - 1 < -\\varepsilon \\} = P\\{ \\lambda_n > \\frac{1}{\\varepsilon + 1} \\} + P\\{ \\lambda_n < \\frac{1}{1 - \\varepsilon} \\} \\geqslant P\\{ \\lambda_n > \\frac{1}{\\varepsilon + 1} \\} = P\\{ \\lambda_n > 1 - \\varepsilon + o(\\varepsilon) \\} \\geqslant P\\{ \\lambda_n - 1 > \\varepsilon + o(\\varepsilon) \\} \\xrightarrow[n \\rightarrow \\infty]{P} 0\n",
    "$$\n",
    "Последнее равенство и переход к модулю в дальнейшем верен из-за симметричности распределения относитльно 1.\n",
    "Отсюда следует, что $\\lambda_n \\xrightarrow[n \\rightarrow \\infty]{d} 1$, аналогично можно доказать и $\\sqrt{\\lambda_n} \\xrightarrow[n \\rightarrow \\infty]{d} 1$. Далее осталось применить лемму Слуцкого для произведения $\\frac{\\xi_1 + \\ldots + \\xi_n}{\\sqrt{n}} \\cdot \\lambda_n$ и $\\frac{\\xi_1 + \\ldots + \\xi_n}{\\sqrt{n}} \\cdot \\sqrt{\\lambda_n}$"
   ]
  },
  {
   "cell_type": "markdown",
   "metadata": {},
   "source": [
    "__Задание 3. Предельная GIF__\n",
    "\n",
    "Напишите код, который создает GIF (или множество картинок, которые потом объединили в GIF), демонстрирующий предельные теоремы (см. примеры)."
   ]
  },
  {
   "cell_type": "code",
   "execution_count": 1,
   "metadata": {},
   "outputs": [],
   "source": [
    "#место для Вашего решения"
   ]
  },
  {
   "cell_type": "markdown",
   "metadata": {},
   "source": [
    "__Задание 4. Скорость сходимости__\n",
    "\n",
    "а) Численно установите скорость сходимости ЗБЧ для бернулевских, нормальных и пуассоновских случайных величин. Сравните с теоремой Хеффдинга. Сделайте вывод.\n",
    "\n",
    "б)* Численно оцените константу $c$ из неравенства Берри-Эссеена для бернулевских и экспонециальных случайных величин.\n",
    "\n",
    "_Указание._ В обоих пунктах нужно придумать и обосновать, как стоит правильно проводить эксперимент (стоит ли его делать много раз и т.д.) и устанавливать скорость сходимости. "
   ]
  },
  {
   "cell_type": "code",
   "execution_count": 2,
   "metadata": {},
   "outputs": [],
   "source": [
    "#место для Вашего решения"
   ]
  },
  {
   "cell_type": "markdown",
   "metadata": {},
   "source": [
    "__Задание 5. Доказать или опровергнуть__\n",
    "\n",
    "Пусть случайная величин $X_n$ принимает значения ($-n$, $0$, $n$) c вероятностями ($1/4$, $1/2$,$1/4$).\n",
    "\n",
    "Выполняется ли для последовательности независимых случайных величин $X_1, X_2, \\ldots, X_n$ ЗБЧ?"
   ]
  },
  {
   "cell_type": "markdown",
   "metadata": {},
   "source": [
    "Если выолнен ЗБЧ, то верно $\\frac{\\sum\\limits_{k = 1}^n X_k}{n} \\xrightarrow[n \\rightarrow \\infty]{\\mathbb{P}} 0$. Воспользуемся признаком сходимости Коши, значит если это верно, то $\\frac{\\sum\\limits_{k = 1}^n X_k}{n}$ фундаментальна в смысле сходимости по вероятности. Рассмотрим $\\mathbb{P} \\{ |\\frac{\\sum\\limits_{k = 1}^n X_k}{n} - \\frac{\\sum\\limits_{k = 1}^m X_k}{m} | > \\varepsilon\\} = \\mathbb{P} \\{ |\\frac{\\sum\\limits_{k = 1}^n X_k}{n} - \\frac{\\sum\\limits_{k = 1}^n X_k}{m} - \\frac{\\sum\\limits_{k = n+1}^m X_k}{m}| > \\varepsilon\\} $ Взяв $m = n+1$ получим $\\mathbb{P} \\{ |\\frac{\\sum\\limits_{k = 1}^n X_k}{n} - \\frac{\\sum\\limits_{k = 1}^n X_k}{n+1} - \\frac{X_m}{m}| > \\varepsilon\\}$ При достаточно больших $n$ можно считать $\\frac{\\sum\\limits_{k = 1}^n X_k}{n} - \\frac{\\sum\\limits_{k = 1}^n X_k}{n+1} < \\frac{\\varepsilon}{2}$, при этом $|\\frac{X_m}{m}| = 1$ с вероятностью $\\frac{1}{2}$, а значит эта последовательность не фундаментальна и ЗБЧ не выполняется."
   ]
  },
  {
   "cell_type": "markdown",
   "metadata": {},
   "source": [
    "__Задание 6. Биржевой парадокс__\n",
    "\n",
    "Рассмотрим любопытный экономический пример. Пусть имеется начальный капитал $K_1$, который требуется увеличить. Для этого имеется две возможности: вкладывать деньги в надёжный банк и покупать на бирже акции некоторой компании. Пусть $u$ -- доля капитала, вкладываемая в банк, а $v$ -- доля капитала, расходуемая на приобретение акций ($0\\leqslant u+v\\leqslant 1$). Предположим, что банк гарантирует $b\\times 100\\%$ годовых, а акции приносят $X\\times 100\\%$ годовых, где $X$ -- случайная величина с математическим ожиданием $\\mathbb{ X} = m_X > b > 0$. Таким образом, через год капитал составит величину $K_2 = K_1(1+bu + Xv)$. Очевидно, что если придерживаться стратегии, максимизирующей средний доход за год, то выгодно присвоить следующие значения: $u=0, v=1$.\n",
    "\n",
    "Рассмотрите прирост капитала $K_{t+1}$ за $t$ лет, считая $X_1,\\ldots,X_t$ независимыми случайными величинами. Покажите, что при ежегодном вложении капитала в акции\n",
    "$$\n",
    "\t\\mathbb{E}\\left[K_t\\right] \\xrightarrow[t\\to\\infty]{} \\infty,\n",
    "$$\n",
    "но при этом в случае $\\mathbb{E}\\left[\\ln(1+X)\\right] < 0$\n",
    "$$\n",
    "\tK_t \\xrightarrow[t\\to\\infty]{\\text{п.н.}} 0.\n",
    "$$\n",
    "Приведите пример такой случайной величины X.\n",
    "\n",
    "_Указание._ Воспользуйтесь усиленным законом больших чисел для последовательности $\\ln(1+X_t)$."
   ]
  },
  {
   "cell_type": "markdown",
   "metadata": {},
   "source": [
    "Покажем, что $\\mathbb{E}\\left[K_t\\right] \\xrightarrow[t\\to\\infty]{} \\infty$. Для этого выразим $\\mathbb{E}\\left[K_t\\right] = K_1 \\cdot \\mathbb{E} \\left( 1 + X \\right)^t =K_1 \\prod\\limits_{n = 1}^{t} \\mathbb{E} \\left( 1 + X \\right) = K_1 \\cdot(1 + m_X)^t $, т.к. $X$ считаем независимой от времени. Считаем t - целым количеством лет вложения капитала в акции.\n",
    "\n",
    "Рассмотрим последовательность случайных величин $\\ln (1 + X_t)$, для них из i.i.d. и существования мат. ожидания следует выполение УЗБЧ по теореме Колмогорова. Значит:\n",
    "$$\n",
    "\\frac{1}{t} \\cdot \\left( \\sum\\limits_{k = 1}^{t} \\ln (1 + X_k) - \\sum\\limits_{k = 1}^{t} \\mathbb{E} \\ln (1 + X_k) \\right) = \n",
    "\\frac{\\ln \\prod\\limits_{k = 1}^{t} (1 + X_k)}{t} + |R| \\xrightarrow[t\\to\\infty]{\\text{п.н.}} 0\n",
    "$$, где $|R| = | \\mathbb{E}\\left[\\ln(1+X)\\right] |$ Запишем это по определению сходимости почти наверное: \n",
    "$$\n",
    "\\mathbb{P} \\{\\omega \\in \\Omega \\mid \\frac{\\ln \\prod\\limits_{k = 1}^{t} (1 + X_k(\\omega))}{t} + |R| \\xrightarrow[t\\to\\infty]{} 0\\} = 0 \\Rightarrow \\mathbb{P} \\{\\omega \\in \\Omega \\mid \\left( \\prod\\limits_{k = 1}^{t} (1 + X_k(\\omega)) \\right)^{\\frac{1}{t}} \\xrightarrow[t\\to\\infty]{} e^{-|R|}\\} = 0\n",
    "$$\n",
    "Заметим, что замена $\\prod\\limits_{k = 1}^{t} (1 + X_k(\\omega))$ на $K_1 \\cdot \\prod\\limits_{k = 1}^{t} (1 + X_k(\\omega))$ не изменит сходимости, т.к. это выражение стоит под корнем и $K_1$ константа.\n",
    "Также начиная с некоторого t можно заменить $e^{-|R|}$ на $e^{-|R/2|}$, перейдя от предела к неравенству. Тогда получим \n",
    "$$\n",
    "\\mathbb{P} \\{\\omega \\in \\Omega \\mid \\left( K_1 \\prod\\limits_{k = 1}^{t} (1 + X_k(\\omega)) \\right) >  e^{-t \\cdot \\frac{|R|}{2}}\\} = 0\n",
    "$$\n",
    "Т.к. $K_1 \\prod\\limits_{k = 1}^{t} (1 + X_k(\\omega)) = K_t$, то нужное $K_t \\xrightarrow[t\\to\\infty]{\\text{п.н.}} 0$ доказано.\n",
    "\n",
    "Приведем пример такой случайной величины X: пусть она принимает значения $(-0.99, 0.5)$ с вероятностями $(\\frac{1}{10}, \\frac{9}{10})$, тогда $\\mathbb{E}\\left[K_t\\right] > K_1(1 + (\\frac{9}{10}\\cdot \\frac{1}{2} - \\frac{1}{10}))^t\\xrightarrow[t\\to\\infty]{} \\infty$, но при этом $\\mathbb{E}\\left[\\ln(1+X)\\right] = \\frac{9}{10} \\cdot \\ln (1 + \\frac{1}{2}) + \\frac{1}{10} \\cdot \\ln (1 - 0.99)< 0$. С практической точки отрицательное значение мат. ожидания логарифма означает отрицательный рост (ужасное выражение) капитала, т.к. в среднем каждый 10 год от капитала будет оставаться только 1 процент, который за 9 лет увеличения на 50% не станет больше или же равен начальному. "
   ]
  }
 ],
 "metadata": {
  "kernelspec": {
   "display_name": "Python 3 (ipykernel)",
   "language": "python",
   "name": "python3"
  },
  "language_info": {
   "codemirror_mode": {
    "name": "ipython",
    "version": 3
   },
   "file_extension": ".py",
   "mimetype": "text/x-python",
   "name": "python",
   "nbconvert_exporter": "python",
   "pygments_lexer": "ipython3",
   "version": "3.9.12"
  }
 },
 "nbformat": 4,
 "nbformat_minor": 2
}
