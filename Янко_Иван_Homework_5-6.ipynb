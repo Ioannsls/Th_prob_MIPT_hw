{
 "cells": [
  {
   "cell_type": "markdown",
   "metadata": {},
   "source": [
    "# Домашнее задание 5-6\n",
    "\n",
    "Это домашнее задание по материалам пятого и шестого семинаров. Дедлайн по отправке - 23:55 18 октября. \n",
    "\n",
    "Домашнее задание выполняется в этом же Jupyter Notebook'e и присылается мне на почту.\n",
    "Решение каждой задачи необходимо поместить после её условия.\n",
    "\n",
    "При полном запуске Вашего решения (Kernel -> Restart & Run All) все ячейки должны выполняться без ошибок. "
   ]
  },
  {
   "cell_type": "markdown",
   "metadata": {},
   "source": [
    "__Задание 1. Поработаем ручками__\n",
    "\n",
    "Найдите математическое ожидание и дисперсию случайных величин, которые имеют распределения:\n",
    "\n",
    "а)геометрическое"
   ]
  },
  {
   "cell_type": "markdown",
   "metadata": {},
   "source": [
    "Это дискретное распределение, поэтому можно его представить в виде следующей суммы ряда (обозначим $1-p = q$): $\\sum \\limits_{k = 0}^{\\infty} pkq^k = p \\sum \\limits_{k = 0}^{\\infty}kq^k = 0 + p \\sum \\limits_{k = 1}^{\\infty}kq^{k} = \\frac{p}{(1 - q)^2} = \\frac{q}{p}$ $\\newline$\n",
    "Найдем дисперсию, зная, что $\\mathbb{D} = \\mathbb{E}(\\xi^2) - (\\mathbb{E}(\\xi))^2 = \\sum \\limits_{k = 1}^{\\infty} k^2pq^k - \\frac{q^2}{p^2} = \\frac{pq(1+q)}{(q-1)^3} - \\frac{q^2}{p^2} = \\frac{q(q + 1)}{p^2} - \\frac{q^2}{p^2} = \\frac{q}{p^2}$"
   ]
  },
  {
   "cell_type": "markdown",
   "metadata": {},
   "source": [
    "б)Пуассона"
   ]
  },
  {
   "cell_type": "markdown",
   "metadata": {},
   "source": [
    "Буду делать аналогично предыдущему пункту: $\\newline$\n",
    "$\\mathbb{E}(\\xi) = \\sum \\limits_{k = 0}^{\\infty} k \\frac{\\lambda^k}{k!} e^{-\\lambda} = e^{-\\lambda} \\sum \\limits_{k = 0}^{\\infty} \\frac{\\lambda^k}{(k-1)!} = e^{-\\lambda} \\lambda e^{\\lambda} = \\lambda \\newline$\n",
    "$\\mathbb{D} = \\mathbb{E}(\\xi^2) - (\\mathbb{E}(\\xi))^2 = \\sum \\limits_{k = 0}^{\\infty} k^2 \\frac{\\lambda^k}{k!} e^{-\\lambda} - \\lambda^2 = \\lambda(\\lambda + 1)e^{-\\lambda}e^{\\lambda} - \\lambda^2 = \\lambda$"
   ]
  },
  {
   "cell_type": "markdown",
   "metadata": {},
   "source": [
    "в)экспоненциальное"
   ]
  },
  {
   "cell_type": "markdown",
   "metadata": {},
   "source": [
    "$\\mathbb{E}(\\xi) = \\int \\limits_{0}^{\\infty} x\\lambda e^{-\\lambda x} dx = \\frac{\\lambda}{\\lambda^2} = \\frac{1}{\\lambda} \\newline$\n",
    "$\\mathbb{D} = \\mathbb{E}(\\xi^2) - (\\mathbb{E}(\\xi))^2 = \\int \\limits_{0}^{\\infty} x^2 \\lambda e^{-\\lambda x} dx - \\frac{1}{\\lambda^2} = \\frac{2}{\\lambda^2} - \\frac{1}{\\lambda^2} = \\frac{1}{\\lambda^2} $"
   ]
  },
  {
   "cell_type": "markdown",
   "metadata": {},
   "source": [
    "г)нормальное"
   ]
  },
  {
   "cell_type": "markdown",
   "metadata": {},
   "source": [
    "Заметим, что любое нормальное распределение можно задать через стандартное нормальное распределение с $\\mu = 0$ и $\\sigma = 1$. Для такого стандартного нормального распределения верно следующее: $ \\mathbb{E}(|\\xi_{0,1}|) = \\int \\limits_{-\\infty}^{+\\infty} |x| \\left( \\frac{1}{(2\\pi)^{1/2}} e^{-\\frac{x^2}{2}} \\right) dx  = \\frac{2}{(2\\pi)^{1/2}} \\int \\limits_{0}^{+\\infty} e^{\\frac{-x^2}{2}} d\\frac{x^2}{2} = \\frac{2}{\\sqrt{2\\pi}}$ Значит этот интеграл существует и можно утверждать следующее:\n",
    "\n",
    "$\\mathbb{E}(\\xi_{0,1}) = \\int \\limits_{-\\infty}^{+\\infty} x \\left( \\frac{1}{(2\\pi)^{1/2}} e^{-\\frac{x^2}{2}} \\right) dx =  \\frac{1}{(2\\pi)^{1/2}} \\left( \\int \\limits_{0}^{+\\infty} x e^{-\\frac{x^2}{2}}dx +  \\int \\limits_{-\\infty}^{0} x e^{-\\frac{x^2}{2}}dx \\right) = \\frac{1}{(2\\pi)^{1/2}} \\left( \\int \\limits_{0}^{+\\infty} x e^{-\\frac{x^2}{2}}dx - \\int \\limits_{0}^{+\\infty} x e^{-\\frac{x^2}{2}}dx \\right) = 0\n",
    "\\newline$\n",
    "Задав $\\eta = \\frac{\\xi_{\\mu,\\sigma} - \\mu}{\\sigma}$ получим, что $\\eta = \\xi_{0,1}$. Отсюда $\\xi_{\\mu,\\sigma} = \\sigma \\eta + \\mu$. А значит верно $\\mathbb{E}(\\xi_{\\mu,\\sigma}) = \\mathbb{E}(\\sigma \\eta + \\mu) = \\sigma \\mathbb{E}(\\eta) + \\mu = \\sigma \\mathbb{E}(\\xi_{ 0,1}) + \\mu = \\mu$\n",
    "Для подсчета дисперсии будем действовать аналогично: сначала посчитаем дисперсию для стандартного нормального распределения:\n",
    "$\\mathbb{D}(\\xi_{0,1}) = \\mathbb{E}(\\xi_{0,1}^2) - (\\mathbb{E}(\\xi_{0,1}))^2 = \\mathbb{E}(\\xi_{0,1}^2) = \\int \\limits_{-\\infty}^{+\\infty} x^2 \\left( \\frac{1}{(2\\pi)^{1/2}} e^{-\\frac{x^2}{2}} \\right) dx = \\frac{1}{(2\\pi)^{1/2}} \\int \\limits_{-\\infty}^{+\\infty} x e^{-\\frac{x^2}{2}} d\\frac{x^2}{2} = \\frac{-1}{(2\\pi)^{1/2}} \\int \\limits_{-\\infty}^{+\\infty} x de^{-\\frac{x^2}{2}}= \\newline$$\n",
    "= \\frac{-1}{(2\\pi)^{1/2}} \\left( xe^{-\\frac{x^2}{2}}\\bigg|_{-\\infty}^{+\\infty} - \\int \\limits_{-\\infty}^{+\\infty} e^{-\\frac{x^2}{2}} dx \\right) = \\int \\limits_{-\\infty}^{+\\infty} \\frac{1}{(2\\pi)^{1/2}} e^{-\\frac{x^2}{2}} dx = 1\n",
    "$ Последнее равенство верно, т.к. площадь под графиком функции плотности распределения должна быть равна 1. Далее легко понять, что \n",
    "$\\mathbb{D}(\\xi_{\\mu,\\sigma}) = \\mathbb{D}(\\sigma \\eta + \\mu) = \\sigma^2 \\mathbb{D}(\\xi_{0,1}) + \\mathbb{D}(\\mu) = \\sigma^2\n",
    "$"
   ]
  },
  {
   "cell_type": "markdown",
   "metadata": {},
   "source": [
    "__Задание 2. Средние число остановок__\n",
    "\n",
    "На первом этаже 12го общежития (14 этажей) в лифт зашли $n$ человек. Найти мат.ожидание и дисперсию числа остановок лифта, если каждый из вошедших (независимо от остальных) может с равной вероятностью жить на любом из 13-ти этажей."
   ]
  },
  {
   "cell_type": "markdown",
   "metadata": {},
   "source": [
    "14 этажей это -1,1,2,...,13. Замечу, что людям, живущим на первом этаже, в лифт заходить не нужно, а на -1 этаже никто не живет. Поэтому каждый из вошедших, если он действует рационально, может жить на 2,3,...,13 этаже, т.е. на одном из 12 этажей равновероятно. $\\newline$\n",
    "Пронумеруем людей по их порядковому номеру выхода из лифта (считаем, нам заранее известно это). Тогда зададим случайную величину \n",
    "\\begin{align*}\n",
    "\\xi_k = & \n",
    "\\begin{cases}\n",
    "   1, \\text{человек с порядковым номером k первый вышел из лифта на каком-то этаже}\\\\\n",
    "   0, иначе\n",
    "\\end{cases}\n",
    "\\end{align*}\n",
    "Тогда $\\mathbb{P}\\{ \\xi_k = 0 \\} = 1 - \\left( \\frac{11}{12} \\right)^{k - 1}$, а $\\mathbb{P}\\{ \\xi_k = 1 \\} = \\left( \\frac{11}{12} \\right)^{k - 1}$ т.к. все люди до данного человека с номером $k$ должны были выйти раньше. $\\newline$\n",
    "$\\mathbb{E}(\\xi_k) = \\sum \\limits_{k = 1}^{n} 1 \\cdot \\mathbb{P}\\{ \\xi_k = 1 \\} = \\sum \\limits_{k = 1}^{n} \\left( \\frac{11}{12} \\right)^{k - 1} = 12\\left( 1 - \\left( \\frac{11}{12} \\right) ^{n} \\right)$ Мы можем так сделать, т.к. математическое ожидание линейно.\n",
    "\n",
    "\n",
    "$\\mathbb{D} = \\mathbb{E}((\\xi_k - \\mathbb{E}(\\xi_k))^2) = \\mathbb{E}(\\xi_k^2) - (\\mathbb{E}(\\xi_k))^2$ т.к. этаж проживания каждого отдельного человека не зависит от этажей проживания других людей в лифте. Заметим, что $\\mathbb{E}(\\xi_k^2) = \\mathbb{E}(\\xi_k)$, т.к. $1^2 = 1$.\n",
    "$\\mathbb{D} = \\mathbb{E}(\\xi_k^2) - (\\mathbb{E}(\\xi_k))^2 = \\mathbb{E}(\\xi_k) - (\\mathbb{E}(\\xi_k))^2 = \\sum \\limits_{k = 1}^{n} \\left( \\frac{11}{12} \\right)^{k - 1} - \\sum \\limits_{k = 1}^{n} \\left( \\frac{11}{12} \\right)^{2k - 2} = 12\\left( 1 - \\left( \\frac{11}{12} \\right) ^{n} \\right) - \\frac{144}{23}\\left( 1 - \\left( \\frac{11}{12} \\right) ^{2n} \\right)$\n"
   ]
  },
  {
   "cell_type": "markdown",
   "metadata": {},
   "source": [
    "__Задание 3. Плохая функция?__\n",
    "\n",
    "Может ли функция $F(x_1,x_2)$\n",
    "\n",
    "\\begin{align*}\n",
    "F(x_1, x_2) = & \n",
    "\\begin{cases}\n",
    "   1, ~\\min\\{x_1,x_2 \\} > 1\\\\\n",
    "   0, ~\\min\\{x_1,x_2 \\} \\leq 1\n",
    "\\end{cases}\n",
    "\\end{align*}\n",
    "\n",
    "быть функцией распределения некотрого двумерного случайного вектора? Если да, то попробуйте привести пример такого вектора."
   ]
  },
  {
   "cell_type": "markdown",
   "metadata": {},
   "source": [
    "Заметим, что первые 5 свойств выполнены. Рассмотрим 6 свойство подробнее: пусть $\\Delta = [a_1, a_2) \\times [b_1, b_2)$, тогда $F(\\xi \\in \\Delta) = F(a_2,b_2) - F(a_2,b_1) - F(a_1,b_2) + F(a_1,b_1)$. Заметим, что это может быть меньше 0 только в том случае, если $F(a_1,b_1) = 0 \\wedge F(a_1,b_2) = 1 \\wedge F(a_2,b_1) = 1$. При этом, очевидно, что $ F(a_2,b_2) = 1$. Но этого быть не может, т.к. если $F(a_1,b_1) = 0$, то $a_1 \\leqslant 1 \\vee b_1 \\leqslant 1 \\Rightarrow F(a_1,b_2) = 0 \\vee F(a_2,b_1) = 0$\n",
    "\n",
    "Чего это может быть за функция знать не знаю, пока не придумал "
   ]
  },
  {
   "cell_type": "markdown",
   "metadata": {},
   "source": [
    " __Задание 4. Еще одна функция__\n",
    "\n",
    "Двумерный случаный вектор имеет следующую плотность рапсределения:\n",
    "\n",
    "\\begin{align*}\n",
    "f(x_1, x_2) = & \n",
    "\\begin{cases}\n",
    "   \\frac{c}{\\sqrt{x_1^2 + x_2^2}}, ~x_1^2+x_2^2 \\leq 1\\\\\n",
    "   0, ~\\text{иначе}\n",
    "\\end{cases}\n",
    "\\end{align*}\n",
    "\n",
    "а) Найдите $с$."
   ]
  },
  {
   "cell_type": "markdown",
   "metadata": {},
   "source": [
    "Для определения $c$ найдем интеграл по $\\mathbb{R}^2$. Заметим, что это интеграл внутри круга с радиусом 1, возьмем его в полярных координатах при $0 \\leqslant r \\leqslant 1$, при таких радиусах длина окружности $2\\pi r$, значит этот интеграл будет равен $\\int \\limits_{r = 0}^{1} \n",
    "\\frac{c}{\\xi} 2\\pi \\xi d\\xi = 2\\pi c = 1 \\Rightarrow c = \\frac{1}{2\\pi}$"
   ]
  },
  {
   "cell_type": "markdown",
   "metadata": {},
   "source": [
    "б)Найдите маргинальные и условные распределения его компонент."
   ]
  },
  {
   "cell_type": "markdown",
   "metadata": {},
   "source": [
    "Заметим, что из-за симметрии относительно переменных маргинальные распределения будут одинаковыми. При определенном $x_2$ функция будет не 0 при $x_1 \\in [-\\sqrt{1 - x_2^2}, \\sqrt{1 - x_2^2}]$, поэтому верны следующие равенства: $\\int \\limits_{-\\infty}^{\\infty} \\frac{1}{2\\pi \\sqrt{x_1^2 + x_2^2}} dx_1 = \\frac{1}{2\\pi } \\int \\limits_{-\\sqrt{1 - x_2^2}}^{\\sqrt{1 - x_2^2}} \\frac{1}{\\sqrt{x_1^2 + x_2^2}} dx_1 = \\frac{ln \\left| x_1 + \\sqrt{x_1^2 + x_2^2} \\right|}{2\\pi} \\bigg|^{\\sqrt{1 - x_2^2}}_{x_1 = -\\sqrt{1 - x_2^2}} = ln \\left| \\frac{1 + \\sqrt{1 - x_2^2}}{1 - \\sqrt{1 - x_2^2}} \\right| \\frac{1}{2\\pi} = ln \\left( \\frac{\\left( 1 + \\sqrt{1 - x_2^2}\\right) ^2}{x_2^2} \\right) \\frac{1}{2\\pi} = ln \\left| \\frac{ 1 + \\sqrt{1 - x_2^2}}{x_2} \\right| \\frac{1}{\\pi}$ Аналогичным будет и маргинальное распределние по $x_1$ $\\newline$\n",
    "Условное распределение $f_\\xi(x|\\eta = y) = \\frac{f_{\\xi,\\eta} (x,y)}{f_\\eta(y)} $. Заметим, что $f_\\eta(y)$ мы уже нашли, ведь это маргинальное распределение. Условные распределения будут одинаковы из-за симметрии.\n",
    "\\begin{align*}\n",
    "f_\\xi(x_1|\\eta = x_2) = & \n",
    "\\begin{cases}\n",
    "   \\left( 2 ln \\left| \\frac{ 1 + \\sqrt{1 - x_2^2}}{x_2} \\right| \\sqrt{x_1^2 + x_2^2} \\right)^{-1}, ~x_1^2+x_2^2 \\leq 1\\\\\n",
    "   0, ~\\text{иначе}\n",
    "\\end{cases}\n",
    "\\end{align*}"
   ]
  },
  {
   "cell_type": "markdown",
   "metadata": {},
   "source": [
    "в)Являются ли они (компоненты вектора) независимыми? Коррелированными?"
   ]
  },
  {
   "cell_type": "markdown",
   "metadata": {},
   "source": [
    "Для опредления этого посчитаем матрицу ковариации.  $ \\mathbb{E}_{\\xi_i}(x) =  \\int \\limits_{-\\infty}^{\\infty} x ln \\left| \\frac{ 1 + \\sqrt{1 - x^2}}{x} \\right| \\frac{1}{\\pi} dx = \\frac{1}{\\pi} \\int \\limits_{-1}^{1} x ln \\left| \\frac{ 1 + \\sqrt{1 - x^2}}{x} \\right| dx = 0$, т.к. $x$ - нечетная функция, а $ln|\\cdot|$ - четная. $\\mathbb{E}_{\\xi_i}(x^2) =  \\int \\limits_{-\\infty}^{\\infty} x^2 ln \\left| \\frac{ 1 + \\sqrt{1 - x^2}}{x} \\right| \\frac{1}{\\pi} dx = \\frac{2}{\\pi} \\int \\limits_{0}^{1} x^2 ln \\left( \\frac{ 1 + \\sqrt{1 - x^2}}{x} \\right) dx = \\frac{2}{\\pi} \\frac{\\pi}{12} = \\frac{1}{6}$ Значит элементы на диагонале равны $\\frac{1}{6}$. Т.к. $\\mathbb{E}_{\\xi_1}(x) = \\mathbb{E}_{\\xi_2}(x)$, то матрица состоит только из элементов $\\frac{1}{6}$.\n",
    "\\begin{align*}\n",
    "\\Sigma =\n",
    "\\begin{pmatrix}\n",
    "  \\frac{1}{6}& \\frac{1}{6}\\\\\n",
    "  \\frac{1}{6}& \\frac{1}{6}\n",
    "\\end{pmatrix}\n",
    "\\end{align*}\n",
    "Значит компоненты вектора не являются независимыми (матрица не диагональная) и являются коррелированными. "
   ]
  },
  {
   "cell_type": "markdown",
   "metadata": {},
   "source": [
    "__Задание 5. Компьютерная игра__\n",
    "\n",
    "Те, кто хоть однажды играл в ролевые компьютерные игры, знают, как важно правильно подобрать оружие перед боем. \n",
    "\n",
    "Пусть Вам предстоит бой с финальным боссом. Его запас единиц здоровья $10000$ $hp$. У Вас с распоряжении два меча. Урон первого меча имеет дискретное распределение от $40$ до $60$, т.е. за каждый удар он с равновной вероятностью снимет $40,41,\\ldots, 59$ или $60$ $hp$. Урон второго меча имеет дискретное распределение от $0$ до $100$, т.е. за каждый удар он с равновной вероятностью снимет $0,1,2,\\ldots, 99$ или $100$ $hp$.\n",
    "\n",
    "Вы очень сильный игрок, поэтому в ходе боя босс не нанесет Вам ни одного ранения, но Вы хотите закончить бой быстрее. Какой меч нужно взять?"
   ]
  },
  {
   "cell_type": "markdown",
   "metadata": {},
   "source": [
    "а) Решите эту задачу численно, т.е. проведите достаточно большое число боев с боссом, используя первый и второй мечи. Посчитайте, за сколько ударов в среднем Вы побеждаете в каждом из случаев. "
   ]
  },
  {
   "cell_type": "markdown",
   "metadata": {},
   "source": [
    "Ниже представлена программа для решения этой задачи. Каждый раз генерировалось ATTACK_QUANTITY = 200*1000 ударов мечом и вычислялся list с различным количеством ударов для каждого случая (в среднем в одном list было 1000 боев). Далее списки для различных мечей сравнивались по двум метрикам: \n",
    "\n",
    "1) Количество боев, в которых 1 меч победил за меньшее количество ударов, нежели 2 меч.\n",
    "\n",
    "sum(np.sign(sw1 - sw2))\n",
    "\n",
    "Т.е. если 1 меч сделал меньшее количество ударов, то -1, если ударов поровну, то + 0, иначе +1. Так для каждого из проведенных 1000 боев. В итоге если 1 меч делал меньшее количество ударов, то результат отрицательный, иначе (1 меч делал большее количество ударов) результат положительный.\n",
    "\n",
    "2) Разность среднего числа ударов, сделанных для победы. \n",
    "\n",
    "sum(sw1_list)/len(sw1_list)) - (sum(sw2_list)/len(sw2_list)\n",
    "\n",
    "Т.е. если 1 меч сделал в среднем из выборки по 1000 боям меньше ударов, то разность будет отрицательной, иначе - положительной.\n",
    "$\\newline$\n",
    "В результате было взято All_ITERATIONS = 5000 выборок по 1000 боям и для каждой из этих выборок была посчитана 1 и 2 метрика. List из этих метрик можно видеть в файле \"5.txt\", который прикреплен к письму. Также была посчитана сумма по list для каждой из метрик. \n",
    "\n",
    "Получилось, что значение 1 и 2 метрик отрицательны. Это значит, что для боя лучше выбрать 1 меч."
   ]
  },
  {
   "cell_type": "code",
   "execution_count": 1,
   "metadata": {},
   "outputs": [
    {
     "name": "stdout",
     "output_type": "stream",
     "text": [
      "point dif:  [-31, 30, 28, 19, -9, -5, -27, -41, -14] \n",
      " avg point dif:  -50\n",
      "average dif:  [-0.65  0.12  0.05  0.05 -0.16 -0.21 -0.37 -0.53 -0.53] \n",
      " avg average dif:  -2.2374739156528847\n"
     ]
    }
   ],
   "source": [
    "import numpy as np\n",
    "\n",
    "BOSS_HP = 10000\n",
    "SWORD_CHAR = ((40,60),(0,100))\n",
    "ATTACK_QUANTITY = 200*1000\n",
    "All_ITERATIONS = 10\n",
    "\n",
    "## generating functions\n",
    "\n",
    "def rand_generator (sword_number):\n",
    "    rng = np.random.default_rng()\n",
    "    return rng.integers(low = SWORD_CHAR[sword_number - 1][0], high = SWORD_CHAR[sword_number - 1][1] + 1,\n",
    "                        size = ATTACK_QUANTITY)\n",
    "\n",
    "def avg_attack_counter_list (rand_list):\n",
    "    attack_sum = 0\n",
    "    avg_counter = []\n",
    "    sum_dmg = 0;\n",
    "    for i in rand_list:\n",
    "        sum_dmg += i\n",
    "        attack_sum += 1\n",
    "        if (sum_dmg >= BOSS_HP):\n",
    "            avg_counter.append(attack_sum)\n",
    "            attack_sum = 0\n",
    "            sum_dmg = 0\n",
    "    return avg_counter\n",
    "\n",
    "## metrics functions\n",
    "\n",
    "def point_dif (sw1_list, sw2_list):\n",
    "    lenght = min(len(sw1_list), len(sw2_list))\n",
    "    sw1 = np.array(sw1_list[:lenght])\n",
    "    sw2 = np.array(sw2_list[:lenght])\n",
    "    return (sum(np.sign(sw1 - sw2)))\n",
    "\n",
    "def avg_dif (sw1_list, sw2_list):\n",
    "    return (sum(sw1_list)/len(sw1_list)) - (sum(sw2_list)/len(sw2_list))\n",
    "    \n",
    "\n",
    "## main part\n",
    "if __name__ == \"__main__\":\n",
    "    res_p_dif = []\n",
    "    res_a_dif = []\n",
    "    for i in range(1, All_ITERATIONS):\n",
    "        sw1_res = avg_attack_counter_list(rand_generator(1))\n",
    "        sw2_res = avg_attack_counter_list(rand_generator(2))\n",
    "        res_p_dif.append(point_dif(sw1_res, sw2_res))\n",
    "        res_a_dif.append(avg_dif(sw1_res, sw2_res))\n",
    "    \n",
    "\n",
    "    print (\"point dif: \", res_p_dif,\"\\n\" ,\"avg point dif: \", (sum(res_p_dif)))\n",
    "    print (\"average dif: \", np.around(res_a_dif, decimals=2),\"\\n\" ,\"avg average dif: \", (sum(res_a_dif)))\n",
    "\n",
    "#file = open(\"5.txt\", \"w\")\n",
    "#file.write(\"point dif: \"); file.write(\" \".join(str(x) for x in res_p_dif)); \n",
    "#file.write(\"\\n\"); file.write(\"avg point dif: \"); file.write(str(sum(res_p_dif)))\n",
    "#file.write(\"\\n\\n\")\n",
    "#file.write(\"average dif: \"); file.write(\" \".join(str(x) for x in np.around(res_a_dif, decimals=2))); \n",
    "#file.write(\"\\n\"); file.write(\"avg average dif: \"); file.write(str(sum(res_a_dif)))\n",
    "#file.close()"
   ]
  },
  {
   "cell_type": "markdown",
   "metadata": {},
   "source": [
    "__Бонус__ б)Придумайте аналитическое решение этой задачи."
   ]
  },
  {
   "cell_type": "markdown",
   "metadata": {},
   "source": [
    "Очевидно, что с точки зрения рассмотрения урона, наносимого мечами, мат.ожидание будет одинаковым, при этом дисперсия у второго меча будет больше. При этом хочу заметить, что функция плотности распределения для 1 меча будет не равна нулю только на множестве конечной меры, а для второго меча вероятность необходимости нанести больше ударов наперед заданного числа не нулевая.\n",
    "\n",
    "Т.е. первый меч имеет нормальное функцию плотности распределения, которая не 0 на отрезке $[166.(6), 250]$, второй меч имеет не нулевую функцию плотности распределения, которая не 0 на $[100, +\\infty)$"
   ]
  },
  {
   "cell_type": "markdown",
   "metadata": {},
   "source": [
    "__Задание 6. ePhone__\n",
    "\n",
    "Эдик скачал много игр на свой новый телефон. Утром он заряжает свой телефон на 100% и едет на базу. Каждую пару он занимается \"научной работой\" и тратит долю заряда телефона, равномерно распределенную на отрезке $[0,1]$, т.е. от 0 до 100%. Сколько в среднем пар телефон живет без подзярдки?\n",
    "\n",
    "__Hint:__ Скорее всего, в ходе решения Вам нужно будет посчитать площадь(объем) вот такой области:\n",
    "$$X = \\{(x_1, x_2, \\ldots x_n) | x_i \\geq 0, \\sum x_i < 1\\}$$\n",
    "\n",
    "Если не получается сделать это аналитически, то можете сделать это численно, например, методом Монте-Карло."
   ]
  },
  {
   "cell_type": "markdown",
   "metadata": {},
   "source": [
    "Обозначим за $X_n = \\{(x_1, x_2, \\ldots x_n) | 0 \\leq x_i \\leq 1, \\sum x_i < 1\\}$. Тогда количество пар, когда телефон будет жить без подзарядки можно вычислить, как мат. ожидание меры(объема) $X_n$. Т.е. $q = \\sum \\limits_{n = 1}^{\\infty} n \\mu (X_n)$. Далее мне было очень лень думать как это сделать аналитически, поэтому напишу численное вычисление методом Монте-Карло.\n",
    "\n",
    "Как видим, получающееся значение очень близко к числу $e$. Предположим, что мат. ожидание числа пар жизни телефона $e$ и $\\mu (X_n) = \\frac{1}{n!}$"
   ]
  },
  {
   "cell_type": "code",
   "execution_count": 2,
   "metadata": {},
   "outputs": [
    {
     "name": "stdout",
     "output_type": "stream",
     "text": [
      "MAX_SUM_NUMBER = 50 NUMBER_OF_GENERATIONS = 100000 \n",
      " sum =  2.71752\n"
     ]
    }
   ],
   "source": [
    "import numpy as np\n",
    "\n",
    "NUMBER_OF_GENERATIONS = 10**5\n",
    "MAX_SUM_NUMBER = 50\n",
    "\n",
    "def input_generator (dimension):\n",
    "    rng = np.random.default_rng()\n",
    "    res = rng.random(size = NUMBER_OF_GENERATIONS)\n",
    "    for i in range (1, dimension):\n",
    "        res += rng.random(size = NUMBER_OF_GENERATIONS)\n",
    "    return res\n",
    "\n",
    "def set_measure (dimension):\n",
    "    count = sum(True for i in input_generator(dimension) if (i <= 1))\n",
    "    return count/NUMBER_OF_GENERATIONS\n",
    "\n",
    "if __name__ == \"__main__\":\n",
    "    sum_res = 0\n",
    "    for i in range (1, MAX_SUM_NUMBER + 1):\n",
    "        sum_res += i * set_measure(i)\n",
    "    print (\"MAX_SUM_NUMBER =\", MAX_SUM_NUMBER, \"NUMBER_OF_GENERATIONS =\", NUMBER_OF_GENERATIONS, \"\\n\", \"sum = \", sum_res)"
   ]
  }
 ],
 "metadata": {
  "kernelspec": {
   "display_name": "Python 3 (ipykernel)",
   "language": "python",
   "name": "python3"
  },
  "language_info": {
   "codemirror_mode": {
    "name": "ipython",
    "version": 3
   },
   "file_extension": ".py",
   "mimetype": "text/x-python",
   "name": "python",
   "nbconvert_exporter": "python",
   "pygments_lexer": "ipython3",
   "version": "3.9.12"
  }
 },
 "nbformat": 4,
 "nbformat_minor": 2
}
